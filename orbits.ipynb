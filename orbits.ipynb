{
 "cells": [
  {
   "cell_type": "code",
   "execution_count": 1,
   "metadata": {},
   "outputs": [],
   "source": [
    "import numpy as np \n",
    "import matplotlib.pyplot as plt"
   ]
  },
  {
   "cell_type": "code",
   "execution_count": 2,
   "metadata": {},
   "outputs": [],
   "source": [
    "class orbit:\n",
    "    \n",
    "    def __init__(self,fxn):\n",
    "        \n",
    "        self.r0 = None #Initial position and velocities\n",
    "        \n",
    "        self.rf = np.zeros(2) #Final numerically calculated position\n",
    "        self.r_exact = np.zeros(2) #Final analytical position\n",
    "        \n",
    "        self.t = None #Time variable\n",
    "        self.tf = None #Final time\n",
    "        \n",
    "        self.ts = None #Matrix of all times\n",
    "        self.rs = None #Matrix of all positions and velocities at all times\n",
    "        \n",
    "        self.scheme = None #scheme of evolution\n",
    "        self.fxn = fxn #Function for evolution - Newtonian OR Relativistic\n",
    "        \n",
    "        self.h = None #time step, can be varied\n",
    "        self.N = 0 #Number of steps\n",
    "        \n",
    "        #Constants for the specific case at hand\n",
    "        \n",
    "        self.G = 6.674 * 10**(-11) #Gravitational Constant \n",
    "        \n",
    "        self.L=None #Length Scale ~ semimajor axis\n",
    "        self.M=None #Mass Scale ~ mass of object\n",
    "        self.T=None #Time Scale\n",
    "        self.V=None #Velocity Scale\n",
    "        self.ecc=None #Eccentricity of orbit\n",
    "    \n",
    "    def setorbit(self, m, a, ecc): # m = Mass of central object, a = semimajor axis, ecc = eccentricity \n",
    "        \n",
    "        self.ecc = ecc\n",
    "        \n",
    "        #Length scale = semi-major axis\n",
    "        self.L = a \n",
    "        #Setting the time and velocity scales\n",
    "        self.T = np.sqrt((self.L**3/(self.G*m)))\n",
    "        self.V = self.L/self.T\n",
    "        \n",
    "        #All things below are in the new scale! \n",
    "        ap = (1+self.ecc)\n",
    "        peri = (1-self.ecc)\n",
    "        x0 = ap\n",
    "        y0 = 0\n",
    "        vx0 = 0\n",
    "        vy0 = np.sqrt(2/(1+self.ecc) - 1)\n",
    "        self.r0 = np.array([x0, y0, vx0, vy0])\n",
    "    \n",
    "    \n",
    "    #For methods feuler, rk2\n",
    "    def evolve(self, scheme, t0, tf, N):\n",
    "        self.N = N\n",
    "        self.scheme = scheme\n",
    "        self.rs = np.zeros([4,N+1])\n",
    "        self.rs[:,0]=self.r0\n",
    "        self.ts = np.zeros(N+1)\n",
    "        h = (tf-t0)/N\n",
    "        self.t = t0\n",
    "        self.ts[0] = self.t\n",
    "        \n",
    "        for i in range(N):\n",
    "            self.rs[:,(i+1)] = self.scheme(self.rs[:,i], h, self.fxn)\n",
    "            self.t += h\n",
    "            self.ts[i+1] = self.t\n",
    "\n",
    "        return self.rs[0], self.rs[1]"
   ]
  },
  {
   "cell_type": "code",
   "execution_count": 3,
   "metadata": {},
   "outputs": [],
   "source": [
    "#Newtonian Potential first derivative of positions and velocities#\n",
    "\n",
    "def fxn(r):\n",
    "    x=r[0]\n",
    "    y=r[1]\n",
    "    vx=r[2]\n",
    "    vy=r[3]\n",
    "    k=-1\n",
    "    return np.array([vx, vy, k*x/((x**2 + y**2)**(3/2)), k*y/((x**2 + y**2)**(3/2))])  \n",
    "\n",
    "\n",
    "#Forward euler for evolving the vector containing positions and velocities for one time step#\n",
    "def feuler(r, dt, fxn):\n",
    "    return r + fxn(r)*dt\n",
    "\n",
    "#rk2 for evolving the vector containing positions and velocities for one time step#\n",
    "def rk2(r, dt, f):\n",
    "    k1 = dt * f(r)\n",
    "    k2 = dt * f(r+k1/2)\n",
    "    r_new = r + k2\n",
    "    return r_new"
   ]
  },
  {
   "cell_type": "code",
   "execution_count": 7,
   "metadata": {},
   "outputs": [
    {
     "data": {
      "text/plain": [
       "Text(0, -0.2, 'S')"
      ]
     },
     "execution_count": 7,
     "metadata": {},
     "output_type": "execute_result"
    },
    {
     "data": {
      "image/png": "[encoded data removed]",
      "text/plain": [
       "<Figure size 432x288 with 1 Axes>"
      ]
     },
     "metadata": {
      "needs_background": "light"
     },
     "output_type": "display_data"
    }
   ],
   "source": [
    "a = 228*10**9\n",
    "ecc = 0.0934\n",
    "m = 1.99847*10**30\n",
    "ti=0\n",
    "tf = 5*2*np.pi *(365/687)\n",
    "mars = orbit(fxn)\n",
    "mars.setorbit(m,a,ecc)\n",
    "\n",
    "N = 100\n",
    "\n",
    "#TO GET PLOT OF MARS ORBIT USING FEULER/RK2 #\n",
    "mars.evolve(feuler,ti,tf,N)\n",
    "plt.plot(mars.rs[0,::10],mars.rs[1,::10],'go--')\n",
    "plt.plot(0,0,'ro',markersize=10)\n",
    "plt.xlabel('x')\n",
    "plt.ylabel('y')\n",
    "plt.title(\"Orbit of Mars\")\n",
    "plt.text(1,-0.2,\"A\")\n",
    "plt.text(0,-0.2,\"S\")"
   ]
  },
  {
   "cell_type": "code",
   "execution_count": null,
   "metadata": {},
   "outputs": [],
   "source": []
  }
 ],
 "metadata": {
  "kernelspec": {
   "display_name": "Python 3",
   "language": "python",
   "name": "python3"
  },
  "language_info": {
   "codemirror_mode": {
    "name": "ipython",
    "version": 3
   },
   "file_extension": ".py",
   "mimetype": "text/x-python",
   "name": "python",
   "nbconvert_exporter": "python",
   "pygments_lexer": "ipython3",
   "version": "3.7.3"
  }
 },
 "nbformat": 4,
 "nbformat_minor": 2
}
